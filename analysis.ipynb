{
 "cells": [
  {
   "cell_type": "code",
   "execution_count": 1,
   "id": "734d7d84-59f1-46dd-a083-46cff402711b",
   "metadata": {},
   "outputs": [
    {
     "name": "stdout",
     "output_type": "stream",
     "text": [
      "Food Indicators: ['Country ID and group', 'Metadata', 'FAO Food Price Index', 'Commodity food prices', 'Fertilizer prices', 'Food price inflation']\n",
      "Cross-Cutting Indicators: ['Country ID and group', 'Metadata', 'Global GDP Nowcast', 'Inflation rates', 'Central bank policy rates', 'Price of shipping']\n",
      "Energy Indicators: ['Country ID and group', 'Metadata', 'Oil prices', 'Gas prices']\n",
      "Finance Indicators: ['Country ID and group', 'Metadata', 'Reserve of developing countries', 'Evolution of intl. reserves', 'Bond yields of emerging markets', 'Bond spread of emerging markets']\n",
      "\n",
      "--- Food Sample ---\n",
      "   geography_code            countries developing_region_un development_status\n",
      "0            AFG          Afghanistan     Asia and Oceania         Developing\n",
      "1            ALB              Albania               Europe          Developed\n",
      "2            DZA              Algeria               Africa         Developing\n",
      "3            AGO               Angola               Africa         Developing\n",
      "4            ATG  Antigua and Barbuda              America         Developing\n",
      "\n",
      "--- Cross-Cutting Sample ---\n",
      "   geography_code            countries developing_region_un development_status\n",
      "0            AFG          Afghanistan     Asia and Oceania         Developing\n",
      "1            ALB              Albania               Europe          Developed\n",
      "2            DZA              Algeria               Africa         Developing\n",
      "3            AGO               Angola               Africa         Developing\n",
      "4            ATG  Antigua and Barbuda              America         Developing\n",
      "\n",
      "--- Energy Sample ---\n",
      "   geography_code            countries developing_region_un development_status\n",
      "0            AFG          Afghanistan     Asia and Oceania         Developing\n",
      "1            ALB              Albania               Europe          Developed\n",
      "2            DZA              Algeria               Africa         Developing\n",
      "3            AGO               Angola               Africa         Developing\n",
      "4            ATG  Antigua and Barbuda              America         Developing\n",
      "\n",
      "--- Finance Sample ---\n",
      "   geography_code            countries developing_region_un development_status\n",
      "0            AFG          Afghanistan     Asia and Oceania         Developing\n",
      "1            ALB              Albania               Europe          Developed\n",
      "2            DZA              Algeria               Africa         Developing\n",
      "3            AGO               Angola               Africa         Developing\n",
      "4            ATG  Antigua and Barbuda              America         Developing\n"
     ]
    }
   ],
   "source": [
    "import pandas as pd\n",
    "\n",
    "# Load all Excel files\n",
    "food_xls = pd.ExcelFile(\"cleaned_bulk_data_food.xlsx\")\n",
    "cross_xls = pd.ExcelFile(\"cleaned_bulk_data_cross_cutting.xlsx\")\n",
    "energy_xls = pd.ExcelFile(\"cleaned_bulk_data_energy.xlsx\")\n",
    "finance_xls = pd.ExcelFile(\"cleaned_bulk_data_finance.xlsx\")\n",
    "\n",
    "# Print sheet names\n",
    "print(\"Food Indicators:\", food_xls.sheet_names)\n",
    "print(\"Cross-Cutting Indicators:\", cross_xls.sheet_names)\n",
    "print(\"Energy Indicators:\", energy_xls.sheet_names)\n",
    "print(\"Finance Indicators:\", finance_xls.sheet_names)\n",
    "\n",
    "# Preview first few rows of one sheet from each\n",
    "food_df = food_xls.parse(food_xls.sheet_names[0])\n",
    "cross_df = cross_xls.parse(cross_xls.sheet_names[0])\n",
    "energy_df = energy_xls.parse(energy_xls.sheet_names[0])\n",
    "finance_df = finance_xls.parse(finance_xls.sheet_names[0])\n",
    "\n",
    "print(\"\\n--- Food Sample ---\\n\", food_df.head())\n",
    "print(\"\\n--- Cross-Cutting Sample ---\\n\", cross_df.head())\n",
    "print(\"\\n--- Energy Sample ---\\n\", energy_df.head())\n",
    "print(\"\\n--- Finance Sample ---\\n\", finance_df.head())\n",
    "\n"
   ]
  },
  {
   "cell_type": "code",
   "execution_count": 2,
   "id": "43c7de09-6700-4335-a5be-6ae49e1204d4",
   "metadata": {},
   "outputs": [
    {
     "name": "stdout",
     "output_type": "stream",
     "text": [
      "  geography_code              food_countries food_developing_region_un  \\\n",
      "0            AFG                 Afghanistan          Asia and Oceania   \n",
      "1            AGO                      Angola                    Africa   \n",
      "2            ALB                     Albania                    Europe   \n",
      "3            ARE  United Arab Emirates (the)          Asia and Oceania   \n",
      "4            ARG                   Argentina                   America   \n",
      "\n",
      "  food_development_status             cross_countries  \\\n",
      "0              Developing                 Afghanistan   \n",
      "1              Developing                      Angola   \n",
      "2               Developed                     Albania   \n",
      "3              Developing  United Arab Emirates (the)   \n",
      "4              Developing                   Argentina   \n",
      "\n",
      "  cross_developing_region_un cross_development_status  \\\n",
      "0           Asia and Oceania               Developing   \n",
      "1                     Africa               Developing   \n",
      "2                     Europe                Developed   \n",
      "3           Asia and Oceania               Developing   \n",
      "4                    America               Developing   \n",
      "\n",
      "             energy_countries energy_developing_region_un  \\\n",
      "0                 Afghanistan            Asia and Oceania   \n",
      "1                      Angola                      Africa   \n",
      "2                     Albania                      Europe   \n",
      "3  United Arab Emirates (the)            Asia and Oceania   \n",
      "4                   Argentina                     America   \n",
      "\n",
      "  energy_development_status           finance_countries  \\\n",
      "0                Developing                 Afghanistan   \n",
      "1                Developing                      Angola   \n",
      "2                 Developed                     Albania   \n",
      "3                Developing  United Arab Emirates (the)   \n",
      "4                Developing                   Argentina   \n",
      "\n",
      "  finance_developing_region_un finance_development_status  \n",
      "0             Asia and Oceania                 Developing  \n",
      "1                       Africa                 Developing  \n",
      "2                       Europe                  Developed  \n",
      "3             Asia and Oceania                 Developing  \n",
      "4                      America                 Developing  \n"
     ]
    }
   ],
   "source": [
    "# Rename columns in each dataset to avoid conflicts\n",
    "food_df.rename(columns={\n",
    "    'countries': 'food_countries',\n",
    "    'development_status': 'food_development_status',\n",
    "    'developing_region_un': 'food_developing_region_un'\n",
    "}, inplace=True)\n",
    "\n",
    "cross_df.rename(columns={\n",
    "    'countries': 'cross_countries',\n",
    "    'development_status': 'cross_development_status',\n",
    "    'developing_region_un': 'cross_developing_region_un'\n",
    "}, inplace=True)\n",
    "\n",
    "energy_df.rename(columns={\n",
    "    'countries': 'energy_countries',\n",
    "    'development_status': 'energy_development_status',\n",
    "    'developing_region_un': 'energy_developing_region_un'\n",
    "}, inplace=True)\n",
    "\n",
    "finance_df.rename(columns={\n",
    "    'countries': 'finance_countries',\n",
    "    'development_status': 'finance_development_status',\n",
    "    'developing_region_un': 'finance_developing_region_un'\n",
    "}, inplace=True)\n",
    "\n",
    "# Now perform the merge\n",
    "merged_df = food_df.merge(cross_df, on='geography_code', how='outer')\n",
    "merged_df = merged_df.merge(energy_df, on='geography_code', how='outer')\n",
    "merged_df = merged_df.merge(finance_df, on='geography_code', how='outer')\n",
    "\n",
    "# Check the first few rows of the merged data\n",
    "print(merged_df.head())\n"
   ]
  },
  {
   "cell_type": "code",
   "execution_count": 3,
   "id": "dab39519-0de8-4d5f-8490-8775a698098d",
   "metadata": {},
   "outputs": [
    {
     "name": "stdout",
     "output_type": "stream",
     "text": [
      "\n",
      "food_development_status:\n",
      "food_development_status\n",
      "Developing    141\n",
      "Developed      47\n",
      "Name: count, dtype: int64\n",
      "\n",
      "cross_development_status:\n",
      "cross_development_status\n",
      "Developing    141\n",
      "Developed      47\n",
      "Name: count, dtype: int64\n",
      "\n",
      "energy_development_status:\n",
      "energy_development_status\n",
      "Developing    141\n",
      "Developed      47\n",
      "Name: count, dtype: int64\n",
      "\n",
      "finance_development_status:\n",
      "finance_development_status\n",
      "Developing    141\n",
      "Developed      47\n",
      "Name: count, dtype: int64\n"
     ]
    }
   ],
   "source": [
    "columns = [\n",
    "    'food_development_status',\n",
    "    'cross_development_status',\n",
    "    'energy_development_status',\n",
    "    'finance_development_status'\n",
    "]\n",
    "\n",
    "for col in columns:\n",
    "    print(f\"\\n{col}:\")\n",
    "    print(merged_df[col].value_counts())\n"
   ]
  },
  {
   "cell_type": "code",
   "execution_count": 4,
   "id": "21aead66-5b0f-465c-896c-4bc72c014394",
   "metadata": {},
   "outputs": [
    {
     "name": "stdout",
     "output_type": "stream",
     "text": [
      "Total countries: 188\n",
      "Consistent classifications: 188\n",
      "Inconsistent classifications: 0\n",
      "\n",
      "Inconsistent rows:\n",
      " Empty DataFrame\n",
      "Columns: [geography_code, food_countries, food_developing_region_un, food_development_status, cross_countries, cross_developing_region_un, cross_development_status, energy_countries, energy_developing_region_un, energy_development_status, finance_countries, finance_developing_region_un, finance_development_status, same_status_all]\n",
      "Index: []\n"
     ]
    },
    {
     "data": {
      "text/plain": [
       "'Consistent means country is developed in all aspects'"
      ]
     },
     "execution_count": 4,
     "metadata": {},
     "output_type": "execute_result"
    }
   ],
   "source": [
    " \n",
    "# Check if all 4 development status columns have the same value row-wise\n",
    "merged_df['same_status_all'] = (\n",
    "    (merged_df['food_development_status'] == merged_df['cross_development_status']) &\n",
    "    (merged_df['food_development_status'] == merged_df['energy_development_status']) &\n",
    "    (merged_df['food_development_status'] == merged_df['finance_development_status'])\n",
    ")\n",
    "\n",
    "# View rows where the status is NOT consistent\n",
    "inconsistent = merged_df[~merged_df['same_status_all']]\n",
    "\n",
    "# Print summary\n",
    "print(\"Total countries:\", len(merged_df))\n",
    "print(\"Consistent classifications:\", merged_df['same_status_all'].sum())\n",
    "print(\"Inconsistent classifications:\", (~merged_df['same_status_all']).sum())\n",
    "print(\"\\nInconsistent rows:\\n\", inconsistent)\n",
    "\n",
    "'''Consistent means country is developed in all aspects'''"
   ]
  },
  {
   "cell_type": "code",
   "execution_count": 5,
   "id": "bb63f841-34f2-49d9-a220-16669cd5bcd3",
   "metadata": {},
   "outputs": [
    {
     "data": {
      "text/plain": [
       "Index(['geography_code', 'food_countries', 'food_developing_region_un',\n",
       "       'food_development_status', 'cross_countries',\n",
       "       'cross_developing_region_un', 'cross_development_status',\n",
       "       'energy_countries', 'energy_developing_region_un',\n",
       "       'energy_development_status', 'finance_countries',\n",
       "       'finance_developing_region_un', 'finance_development_status',\n",
       "       'same_status_all'],\n",
       "      dtype='object')"
      ]
     },
     "execution_count": 5,
     "metadata": {},
     "output_type": "execute_result"
    }
   ],
   "source": [
    "merged_df.columns"
   ]
  },
  {
   "cell_type": "code",
   "execution_count": 6,
   "id": "b935774b-0847-4b9c-9a1d-729d1802b7ae",
   "metadata": {},
   "outputs": [
    {
     "name": "stdout",
     "output_type": "stream",
     "text": [
      "  geography_code              food_countries food_developing_region_un  \\\n",
      "0            AFG                 Afghanistan          Asia and Oceania   \n",
      "1            AGO                      Angola                    Africa   \n",
      "2            ALB                     Albania                    Europe   \n",
      "3            ARE  United Arab Emirates (the)          Asia and Oceania   \n",
      "4            ARG                   Argentina                   America   \n",
      "\n",
      "  food_development_status  same_status_all  \n",
      "0              Developing             True  \n",
      "1              Developing             True  \n",
      "2               Developed             True  \n",
      "3              Developing             True  \n",
      "4              Developing             True  \n"
     ]
    }
   ],
   "source": [
    "# Drop redundant columns after merging (if needed)\n",
    "merged_df.drop(columns=['cross_countries', 'energy_countries', 'finance_countries', \n",
    "                        'cross_development_status', 'energy_development_status', \n",
    "                        'finance_development_status', 'cross_developing_region_un', \n",
    "                        'energy_developing_region_un', 'finance_developing_region_un'], inplace=True)\n",
    "\n",
    "# Check the cleaned merged data\n",
    "print(merged_df.head())\n"
   ]
  },
  {
   "cell_type": "code",
   "execution_count": 7,
   "id": "90619fef-d280-443f-8ab6-cbe698c87327",
   "metadata": {},
   "outputs": [
    {
     "name": "stdout",
     "output_type": "stream",
     "text": [
      "  geography_code              food_countries food_developing_region_un  \\\n",
      "0            AFG                 Afghanistan          Asia and Oceania   \n",
      "1            AGO                      Angola                    Africa   \n",
      "2            ALB                     Albania                    Europe   \n",
      "3            ARE  United Arab Emirates (the)          Asia and Oceania   \n",
      "4            ARG                   Argentina                   America   \n",
      "\n",
      "  food_development_status  \n",
      "0              Developing  \n",
      "1              Developing  \n",
      "2               Developed  \n",
      "3              Developing  \n",
      "4              Developing  \n"
     ]
    }
   ],
   "source": [
    "# Select only the relevant columns for your analysis\n",
    "merged_df = merged_df[['geography_code', 'food_countries', 'food_developing_region_un', 'food_development_status']]\n",
    "\n",
    "# Check the final merged dataset\n",
    "print(merged_df.head())\n"
   ]
  },
  {
   "cell_type": "code",
   "execution_count": 8,
   "id": "722bbdb4-c911-4589-87ed-945365d48d98",
   "metadata": {},
   "outputs": [
    {
     "data": {
      "text/plain": [
       "Index(['geography_code', 'food_countries', 'food_developing_region_un',\n",
       "       'food_development_status'],\n",
       "      dtype='object')"
      ]
     },
     "execution_count": 8,
     "metadata": {},
     "output_type": "execute_result"
    }
   ],
   "source": [
    "merged_df.columns"
   ]
  },
  {
   "cell_type": "code",
   "execution_count": 9,
   "id": "99bd5149-deda-4a64-ad3d-dc975eb338c1",
   "metadata": {},
   "outputs": [
    {
     "name": "stdout",
     "output_type": "stream",
     "text": [
      "Unique Countries: 188\n",
      "Unique Development Statuses: ['Developing' 'Developed']\n",
      "Unique Regions: ['Asia and Oceania' 'Africa' 'Europe' 'America'\n",
      " 'Developed - Asia and Oceania' 'Developed - America']\n",
      "\n",
      "Development Status Count:\n",
      "food_development_status\n",
      "Developing    141\n",
      "Developed      47\n",
      "Name: count, dtype: int64\n",
      "\n",
      "Region Distribution:\n",
      "food_developing_region_un\n",
      "Asia and Oceania                54\n",
      "Africa                          54\n",
      "Europe                          40\n",
      "America                         33\n",
      "Developed - Asia and Oceania     5\n",
      "Developed - America              2\n",
      "Name: count, dtype: int64\n"
     ]
    }
   ],
   "source": [
    "# Get unique values in important columns\n",
    "print(\"Unique Countries:\", merged_df['food_countries'].nunique())\n",
    "print(\"Unique Development Statuses:\", merged_df['food_development_status'].unique())\n",
    "print(\"Unique Regions:\", merged_df['food_developing_region_un'].unique())\n",
    "\n",
    "# Check the count of each development status\n",
    "print(\"\\nDevelopment Status Count:\")\n",
    "print(merged_df['food_development_status'].value_counts())\n",
    "\n",
    "# Region distribution\n",
    "print(\"\\nRegion Distribution:\")\n",
    "print(merged_df['food_developing_region_un'].value_counts())\n"
   ]
  },
  {
   "cell_type": "code",
   "execution_count": 10,
   "id": "8149a272-d7eb-4e42-916c-3ee070539b59",
   "metadata": {},
   "outputs": [
    {
     "name": "stdout",
     "output_type": "stream",
     "text": [
      "  geography_code food_developing_region_un food_developing_region_un_cleaned\n",
      "0            AFG          Asia and Oceania                  Asia and Oceania\n",
      "1            AGO                    Africa                            Africa\n",
      "2            ALB                    Europe                            Europe\n",
      "3            ARE          Asia and Oceania                  Asia and Oceania\n",
      "4            ARG                   America                           America\n"
     ]
    }
   ],
   "source": [
    "# Consolidate developed regions into a single \"Developed\" category\n",
    "merged_df['food_developing_region_un_cleaned'] = merged_df['food_developing_region_un'].replace(\n",
    "    {'Developed - Asia and Oceania': 'Asia and Oceania',\n",
    "     'Developed - America': 'America',\n",
    "     'Developed': 'Developed'}\n",
    ")\n",
    "\n",
    "# Check the result\n",
    "print(merged_df[['geography_code', 'food_developing_region_un', 'food_developing_region_un_cleaned']].head())\n"
   ]
  },
  {
   "cell_type": "code",
   "execution_count": 11,
   "id": "f60e742f-2ffd-4ee7-b399-513f79eb8df9",
   "metadata": {},
   "outputs": [
    {
     "name": "stdout",
     "output_type": "stream",
     "text": [
      "geography_code                       0\n",
      "food_countries                       0\n",
      "food_developing_region_un            0\n",
      "food_development_status              0\n",
      "food_developing_region_un_cleaned    0\n",
      "dtype: int64\n"
     ]
    }
   ],
   "source": [
    "# Check for missing values\n",
    "print(merged_df.isnull().sum())\n"
   ]
  },
  {
   "cell_type": "code",
   "execution_count": 12,
   "id": "2f338081-10ab-4d09-a2d2-df7f412f1bea",
   "metadata": {},
   "outputs": [],
   "source": [
    "# Correct typos or inconsistent data for regions or countries\n",
    "merged_df['food_developing_region_un_cleaned'] = merged_df['food_developing_region_un_cleaned'].replace({\n",
    "    'Asia and Ociania': 'Asia and Oceania',  # Fix typo\n",
    "    'Americaa': 'America'  # Fix typo\n",
    "})\n"
   ]
  },
  {
   "cell_type": "code",
   "execution_count": 13,
   "id": "12936f78-47f5-4a23-a84d-b394ca36a454",
   "metadata": {},
   "outputs": [],
   "source": [
    "merged_df['food_countries'] = merged_df['food_countries'].replace({\n",
    "    'United States of America': 'USA',  # Consistency\n",
    "    'UK': 'United Kingdom'\n",
    "})\n"
   ]
  },
  {
   "cell_type": "code",
   "execution_count": 14,
   "id": "2fac838c-789c-4547-9a21-40d012d9a1cc",
   "metadata": {},
   "outputs": [
    {
     "name": "stdout",
     "output_type": "stream",
     "text": [
      "Found 0 duplicate rows\n"
     ]
    }
   ],
   "source": [
    "# Check for duplicate rows based on the geography_code or other identifiers\n",
    "duplicates = merged_df[merged_df.duplicated(subset='geography_code')]\n",
    "print(f\"Found {len(duplicates)} duplicate rows\")\n"
   ]
  },
  {
   "cell_type": "code",
   "execution_count": 15,
   "id": "1b45caff-11d2-4bcc-b81f-06a82cb767c2",
   "metadata": {},
   "outputs": [],
   "source": [
    "merged_df = merged_df.rename(columns={'food_developing_region_un_cleaned': 'Region_Cleaned'})\n"
   ]
  },
  {
   "cell_type": "code",
   "execution_count": 16,
   "id": "048cb43f-07d3-460e-8174-e418622227c7",
   "metadata": {},
   "outputs": [
    {
     "name": "stdout",
     "output_type": "stream",
     "text": [
      "  geography_code              food_countries food_developing_region_un  \\\n",
      "0            AFG                 Afghanistan          Asia and Oceania   \n",
      "1            AGO                      Angola                    Africa   \n",
      "2            ALB                     Albania                    Europe   \n",
      "3            ARE  United Arab Emirates (the)          Asia and Oceania   \n",
      "4            ARG                   Argentina                   America   \n",
      "\n",
      "  food_development_status    Region_Cleaned  \n",
      "0              Developing  Asia and Oceania  \n",
      "1              Developing            Africa  \n",
      "2               Developed            Europe  \n",
      "3              Developing  Asia and Oceania  \n",
      "4              Developing           America  \n",
      "geography_code               0\n",
      "food_countries               0\n",
      "food_developing_region_un    0\n",
      "food_development_status      0\n",
      "Region_Cleaned               0\n",
      "dtype: int64\n"
     ]
    }
   ],
   "source": [
    "# Check the cleaned data\n",
    "print(merged_df.head())\n",
    "print(merged_df.isnull().sum())  # Ensure there are no more missing values\n"
   ]
  },
  {
   "cell_type": "code",
   "execution_count": 17,
   "id": "7d9c719d-7e2c-482a-9171-cb0437cd343b",
   "metadata": {},
   "outputs": [
    {
     "data": {
      "image/png": "[encoded data removed]",
      "text/plain": [
       "<Figure size 800x600 with 1 Axes>"
      ]
     },
     "metadata": {},
     "output_type": "display_data"
    },
    {
     "name": "stdout",
     "output_type": "stream",
     "text": [
      "\n",
      "    Insights from Development Status Distribution:\n",
      "    - The number of Developing countries is significantly higher (Total: 141) compared to Developed countries (Total: 47).\n",
      "    - The dataset is more skewed towards Developing nations.\n",
      "    \n"
     ]
    },
    {
     "data": {
      "image/png": "[encoded data removed]",
      "text/plain": [
       "<Figure size 800x600 with 1 Axes>"
      ]
     },
     "metadata": {},
     "output_type": "display_data"
    },
    {
     "name": "stdout",
     "output_type": "stream",
     "text": [
      "\n",
      "    Insights from Region Distribution:\n",
      "    - The distribution is relatively even among Asia and Oceania, Africa, and Europe, but Asia and Oceania and Africa have the highest representation.\n",
      "    - There are fewer countries listed as \"Developed\" in certain regions (e.g., 'Developed - Asia and Oceania' and 'Developed - America').\n",
      "    - The 'Developed' regions show fewer countries, indicating potential economic disparities among different regions.\n",
      "    \n"
     ]
    }
   ],
   "source": [
    "import matplotlib.pyplot as plt\n",
    "import seaborn as sns\n",
    "\n",
    "# Set the style for the plots\n",
    "sns.set(style=\"whitegrid\")\n",
    "\n",
    "# Plot the distribution of countries by development status\n",
    "def plot_development_status_distribution():\n",
    "    plt.figure(figsize=(8, 6))\n",
    "    ax = sns.countplot(data=merged_df, x='food_development_status', hue='food_development_status', palette='Set2', legend=False)\n",
    "    plt.title('Development Status Distribution')\n",
    "    plt.xlabel('Development Status')\n",
    "    plt.ylabel('Number of Countries')\n",
    "    plt.show()\n",
    "\n",
    "    # Writing insights based on the graph\n",
    "    development_status_counts = merged_df['food_development_status'].value_counts()\n",
    "    insights = f\"\"\"\n",
    "    Insights from Development Status Distribution:\n",
    "    - The number of Developing countries is significantly higher (Total: {development_status_counts['Developing']}) compared to Developed countries (Total: {development_status_counts['Developed']}).\n",
    "    - The dataset is more skewed towards Developing nations.\n",
    "    \"\"\"\n",
    "    return insights\n",
    "\n",
    "\n",
    "# Plot the distribution of countries by region\n",
    "def plot_region_distribution():\n",
    "    plt.figure(figsize=(8, 6))\n",
    "    ax = sns.countplot(data=merged_df, x='Region_Cleaned', hue='Region_Cleaned', palette='Set3', legend=False)\n",
    "    plt.title('Region Distribution')\n",
    "    plt.xlabel('Region')\n",
    "    plt.ylabel('Number of Countries')\n",
    "    plt.xticks(rotation=45)\n",
    "    plt.show()\n",
    "\n",
    "    # Writing insights based on the graph\n",
    "    region_counts = merged_df['Region_Cleaned'].value_counts()\n",
    "    insights = f\"\"\"\n",
    "    Insights from Region Distribution:\n",
    "    - The distribution is relatively even among Asia and Oceania, Africa, and Europe, but Asia and Oceania and Africa have the highest representation.\n",
    "    - There are fewer countries listed as \"Developed\" in certain regions (e.g., 'Developed - Asia and Oceania' and 'Developed - America').\n",
    "    - The 'Developed' regions show fewer countries, indicating potential economic disparities among different regions.\n",
    "    \"\"\"\n",
    "    return insights\n",
    "\n",
    "\n",
    "# Call the functions and print insights\n",
    "development_status_insights = plot_development_status_distribution()\n",
    "print(development_status_insights)\n",
    "\n",
    "region_distribution_insights = plot_region_distribution()\n",
    "print(region_distribution_insights)\n"
   ]
  },
  {
   "cell_type": "code",
   "execution_count": 18,
   "id": "39358273-d56c-41dd-80ff-52ff0ce5dd8b",
   "metadata": {},
   "outputs": [
    {
     "name": "stdout",
     "output_type": "stream",
     "text": [
      "['geography_code', 'food_countries', 'food_developing_region_un', 'food_development_status', 'Region_Cleaned']\n"
     ]
    }
   ],
   "source": [
    "print(merged_df.columns.tolist())\n"
   ]
  },
  {
   "cell_type": "code",
   "execution_count": null,
   "id": "9ca028e9-687c-4bc2-add8-987d10cb5730",
   "metadata": {},
   "outputs": [],
   "source": [
    " "
   ]
  }
 ],
 "metadata": {
  "kernelspec": {
   "display_name": "Python 3 (ipykernel)",
   "language": "python",
   "name": "python3"
  },
  "language_info": {
   "codemirror_mode": {
    "name": "ipython",
    "version": 3
   },
   "file_extension": ".py",
   "mimetype": "text/x-python",
   "name": "python",
   "nbconvert_exporter": "python",
   "pygments_lexer": "ipython3",
   "version": "3.11.4"
  }
 },
 "nbformat": 4,
 "nbformat_minor": 5
}
